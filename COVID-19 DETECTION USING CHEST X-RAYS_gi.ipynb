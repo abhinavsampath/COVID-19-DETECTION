{
 "cells": [
  {
   "cell_type": "code",
   "execution_count": 9,
   "metadata": {},
   "outputs": [],
   "source": [
    "#COVID-19 DETECTION USING CHEST X-RAY IMAGES"
   ]
  },
  {
   "cell_type": "code",
   "execution_count": 10,
   "metadata": {},
   "outputs": [],
   "source": [
    "#STEP-1 IMPORTING LIBRARIES"
   ]
  },
  {
   "cell_type": "code",
   "execution_count": 11,
   "metadata": {},
   "outputs": [],
   "source": [
    "from keras.models import Sequential #for iniatializing \n",
    "from keras.layers import Dense\n",
    "from keras.layers import Conv2D\n",
    "from keras.layers import MaxPooling2D\n",
    "from keras.layers import Flatten\n",
    "import imutils\n",
    "import cv2\n",
    "from matplotlib import pyplot as plt"
   ]
  },
  {
   "cell_type": "code",
   "execution_count": 12,
   "metadata": {},
   "outputs": [],
   "source": [
    "#Data Preparation & Preprocessing"
   ]
  },
  {
   "cell_type": "code",
   "execution_count": 13,
   "metadata": {},
   "outputs": [],
   "source": [
    "def crop_xray_contour(image, plot=False):    \n",
    "    gray = cv2.cvtColor(image, cv2.COLOR_BGR2GRAY)\n",
    "    gray = cv2.GaussianBlur(gray, (5, 5), 0)\n",
    "    thresh = cv2.threshold(gray, 45, 255, cv2.THRESH_BINARY)[1]\n",
    "    thresh = cv2.erode(thresh, None, iterations=2)\n",
    "    thresh = cv2.dilate(thresh, None, iterations=2)\n",
    "    cnts = cv2.findContours(thresh.copy(), cv2.RETR_EXTERNAL, cv2.CHAIN_APPROX_SIMPLE)\n",
    "    cnts = imutils.grab_contours(cnts)\n",
    "    c = max(cnts, key=cv2.contourArea)\n",
    "    extLeft = tuple(c[c[:, :, 0].argmin()][0])\n",
    "    extRight = tuple(c[c[:, :, 0].argmax()][0])\n",
    "    extTop = tuple(c[c[:, :, 1].argmin()][0])\n",
    "    extBot = tuple(c[c[:, :, 1].argmax()][0])\n",
    "    new_image = image[extTop[1]:extBot[1], extLeft[0]:extRight[0]]            \n",
    "    if plot:\n",
    "        plt.figure()\n",
    "        plt.subplot(1, 2, 1)\n",
    "        plt.imshow(image)\n",
    "        plt.tick_params(axis='both', which='both', \n",
    "                        top=False, bottom=False, left=False, right=False,\n",
    "                        labelbottom=False, labeltop=False, labelleft=False, labelright=False)\n",
    "        plt.title('Original Image')    \n",
    "        plt.subplot(1, 2, 2)\n",
    "        plt.imshow(new_image)\n",
    "        plt.tick_params(axis='both', which='both', \n",
    "                        top=False, bottom=False, left=False, right=False,\n",
    "                        labelbottom=False, labeltop=False, labelleft=False, labelright=False)\n",
    "        plt.title('Cropped Image')\n",
    "        plt.show()\n",
    "    return new_image"
   ]
  },
  {
   "cell_type": "code",
   "execution_count": 16,
   "metadata": {},
   "outputs": [],
   "source": [
    "#Step2: Initializing the model"
   ]
  },
  {
   "cell_type": "code",
   "execution_count": 19,
   "metadata": {},
   "outputs": [],
   "source": [
    "model = Sequential()"
   ]
  },
  {
   "cell_type": "code",
   "execution_count": 20,
   "metadata": {},
   "outputs": [],
   "source": [
    "#Step3: Adding Convolution and maxpoolig Layers and Flattening image"
   ]
  },
  {
   "cell_type": "code",
   "execution_count": 21,
   "metadata": {},
   "outputs": [],
   "source": [
    "from keras.preprocessing.image import ImageDataGenerator"
   ]
  },
  {
   "cell_type": "code",
   "execution_count": 24,
   "metadata": {},
   "outputs": [],
   "source": [
    "model.add(Conv2D(70, (3, 3), activation='relu', input_shape=(70, 70, 3)))\n",
    "model.add(MaxPooling2D((2, 2)))\n",
    "model.add(Conv2D(64, (3, 3), activation='relu'))\n",
    "model.add(MaxPooling2D((2, 2)))\n",
    "model.add(Conv2D(64, (3, 3), activation='relu'))\n",
    "model.add(Flatten())\n",
    "model.add(Dense(64, activation='relu'))\n",
    "model.add(Dense(3))"
   ]
  },
  {
   "cell_type": "code",
   "execution_count": 25,
   "metadata": {},
   "outputs": [
    {
     "name": "stdout",
     "output_type": "stream",
     "text": [
      "Model: \"sequential\"\n",
      "_________________________________________________________________\n",
      "Layer (type)                 Output Shape              Param #   \n",
      "=================================================================\n",
      "conv2d (Conv2D)              (None, 21, 21, 32)        896       \n",
      "_________________________________________________________________\n",
      "conv2d_1 (Conv2D)            (None, 19, 19, 70)        20230     \n",
      "_________________________________________________________________\n",
      "max_pooling2d (MaxPooling2D) (None, 9, 9, 70)          0         \n",
      "_________________________________________________________________\n",
      "conv2d_2 (Conv2D)            (None, 7, 7, 64)          40384     \n",
      "_________________________________________________________________\n",
      "max_pooling2d_1 (MaxPooling2 (None, 3, 3, 64)          0         \n",
      "_________________________________________________________________\n",
      "conv2d_3 (Conv2D)            (None, 1, 1, 64)          36928     \n",
      "_________________________________________________________________\n",
      "flatten (Flatten)            (None, 64)                0         \n",
      "_________________________________________________________________\n",
      "dense (Dense)                (None, 64)                4160      \n",
      "_________________________________________________________________\n",
      "dense_1 (Dense)              (None, 3)                 195       \n",
      "=================================================================\n",
      "Total params: 102,793\n",
      "Trainable params: 102,793\n",
      "Non-trainable params: 0\n",
      "_________________________________________________________________\n"
     ]
    }
   ],
   "source": [
    "model.summary()"
   ]
  },
  {
   "cell_type": "code",
   "execution_count": 26,
   "metadata": {},
   "outputs": [],
   "source": [
    "#Step4 :Ann Layers"
   ]
  },
  {
   "cell_type": "code",
   "execution_count": 27,
   "metadata": {},
   "outputs": [],
   "source": [
    "model.add(Dense(units=128,activation='relu',kernel_initializer='random_uniform'))"
   ]
  },
  {
   "cell_type": "code",
   "execution_count": 28,
   "metadata": {},
   "outputs": [],
   "source": [
    "train_datagen=ImageDataGenerator(rescale=1./255,shear_range=0.2,zoom_range=0.2,horizontal_flip=True)\n",
    "test_datagen= ImageDataGenerator(rescale=1./255)"
   ]
  },
  {
   "cell_type": "code",
   "execution_count": 29,
   "metadata": {},
   "outputs": [],
   "source": [
    "\n",
    "model.add(Dense(units=128,activation='relu',kernel_initializer='random_uniform'))"
   ]
  },
  {
   "cell_type": "code",
   "execution_count": 30,
   "metadata": {},
   "outputs": [],
   "source": [
    "model.add(Dense(units=1,activation='sigmoid',kernel_initializer='random_uniform'))"
   ]
  },
  {
   "cell_type": "code",
   "execution_count": 31,
   "metadata": {},
   "outputs": [
    {
     "name": "stdout",
     "output_type": "stream",
     "text": [
      "Model: \"sequential\"\n",
      "_________________________________________________________________\n",
      "Layer (type)                 Output Shape              Param #   \n",
      "=================================================================\n",
      "conv2d (Conv2D)              (None, 21, 21, 32)        896       \n",
      "_________________________________________________________________\n",
      "conv2d_1 (Conv2D)            (None, 19, 19, 70)        20230     \n",
      "_________________________________________________________________\n",
      "max_pooling2d (MaxPooling2D) (None, 9, 9, 70)          0         \n",
      "_________________________________________________________________\n",
      "conv2d_2 (Conv2D)            (None, 7, 7, 64)          40384     \n",
      "_________________________________________________________________\n",
      "max_pooling2d_1 (MaxPooling2 (None, 3, 3, 64)          0         \n",
      "_________________________________________________________________\n",
      "conv2d_3 (Conv2D)            (None, 1, 1, 64)          36928     \n",
      "_________________________________________________________________\n",
      "flatten (Flatten)            (None, 64)                0         \n",
      "_________________________________________________________________\n",
      "dense (Dense)                (None, 64)                4160      \n",
      "_________________________________________________________________\n",
      "dense_1 (Dense)              (None, 3)                 195       \n",
      "_________________________________________________________________\n",
      "dense_2 (Dense)              (None, 128)               512       \n",
      "_________________________________________________________________\n",
      "dense_3 (Dense)              (None, 128)               16512     \n",
      "_________________________________________________________________\n",
      "dense_4 (Dense)              (None, 1)                 129       \n",
      "=================================================================\n",
      "Total params: 119,946\n",
      "Trainable params: 119,946\n",
      "Non-trainable params: 0\n",
      "_________________________________________________________________\n"
     ]
    }
   ],
   "source": [
    "model.summary()"
   ]
  },
  {
   "cell_type": "code",
   "execution_count": 32,
   "metadata": {},
   "outputs": [],
   "source": [
    "model.compile(optimizer='adam',loss='binary_crossentropy',metrics=['accuracy'])"
   ]
  },
  {
   "cell_type": "code",
   "execution_count": 33,
   "metadata": {},
   "outputs": [
    {
     "name": "stdout",
     "output_type": "stream",
     "text": [
      "Found 1248 images belonging to 2 classes.\n",
      "Found 312 images belonging to 2 classes.\n"
     ]
    }
   ],
   "source": [
    "x_train = train_datagen.flow_from_directory(r'E:\\GITAM\\SEM_7\\Mini_Project\\RADAR_DS\\COVID_19\\TRAIN',target_size=(64,64),batch_size=32,class_mode='binary')\n",
    "x_test = train_datagen.flow_from_directory(r'E:\\GITAM\\SEM_7\\Mini_Project\\RADAR_DS\\COVID_19\\TEST',target_size=(64,64),batch_size=32,class_mode='binary')"
   ]
  },
  {
   "cell_type": "code",
   "execution_count": 34,
   "metadata": {},
   "outputs": [
    {
     "name": "stdout",
     "output_type": "stream",
     "text": [
      "{'COVID-19': 0, 'NORMAL': 1}\n"
     ]
    }
   ],
   "source": [
    "print(x_train.class_indices)"
   ]
  },
  {
   "cell_type": "code",
   "execution_count": 35,
   "metadata": {},
   "outputs": [
    {
     "name": "stdout",
     "output_type": "stream",
     "text": [
      "Epoch 1/100\n",
      "39/39 [==============================] - 62s 2s/step - loss: 0.4727 - accuracy: 0.8598 - val_loss: 0.4185 - val_accuracy: 0.8590\n",
      "Epoch 2/100\n",
      "39/39 [==============================] - 35s 909ms/step - loss: 0.3874 - accuracy: 0.8598 - val_loss: 0.3946 - val_accuracy: 0.8590\n",
      "Epoch 3/100\n",
      "39/39 [==============================] - 35s 907ms/step - loss: 0.3800 - accuracy: 0.8598 - val_loss: 0.3527 - val_accuracy: 0.8590\n",
      "Epoch 4/100\n",
      "39/39 [==============================] - 35s 908ms/step - loss: 0.2651 - accuracy: 0.8998 - val_loss: 0.1845 - val_accuracy: 0.9359\n",
      "Epoch 5/100\n",
      "39/39 [==============================] - 35s 902ms/step - loss: 0.1882 - accuracy: 0.9423 - val_loss: 0.2177 - val_accuracy: 0.9199\n",
      "Epoch 6/100\n",
      "39/39 [==============================] - 35s 896ms/step - loss: 0.1503 - accuracy: 0.9511 - val_loss: 0.1246 - val_accuracy: 0.9583\n",
      "Epoch 7/100\n",
      "39/39 [==============================] - 35s 907ms/step - loss: 0.1230 - accuracy: 0.9591 - val_loss: 0.0926 - val_accuracy: 0.9647\n",
      "Epoch 8/100\n",
      "39/39 [==============================] - 36s 921ms/step - loss: 0.1344 - accuracy: 0.9543 - val_loss: 0.0910 - val_accuracy: 0.9744\n",
      "Epoch 9/100\n",
      "39/39 [==============================] - 35s 885ms/step - loss: 0.1117 - accuracy: 0.9647 - val_loss: 0.0841 - val_accuracy: 0.9744\n",
      "Epoch 10/100\n",
      "39/39 [==============================] - 35s 896ms/step - loss: 0.0919 - accuracy: 0.9712 - val_loss: 0.0915 - val_accuracy: 0.9712\n",
      "Epoch 11/100\n",
      "39/39 [==============================] - 34s 878ms/step - loss: 0.0928 - accuracy: 0.9736 - val_loss: 0.0828 - val_accuracy: 0.9776\n",
      "Epoch 12/100\n",
      "39/39 [==============================] - 35s 906ms/step - loss: 0.0773 - accuracy: 0.9736 - val_loss: 0.0770 - val_accuracy: 0.9776\n",
      "Epoch 13/100\n",
      "39/39 [==============================] - 35s 902ms/step - loss: 0.0722 - accuracy: 0.9760 - val_loss: 0.0586 - val_accuracy: 0.9904\n",
      "Epoch 14/100\n",
      "39/39 [==============================] - 35s 888ms/step - loss: 0.0656 - accuracy: 0.9768 - val_loss: 0.0765 - val_accuracy: 0.9679\n",
      "Epoch 15/100\n",
      "39/39 [==============================] - 36s 911ms/step - loss: 0.0795 - accuracy: 0.9696 - val_loss: 0.0734 - val_accuracy: 0.9679\n",
      "Epoch 16/100\n",
      "39/39 [==============================] - 34s 875ms/step - loss: 0.0572 - accuracy: 0.9816 - val_loss: 0.0952 - val_accuracy: 0.9679\n",
      "Epoch 17/100\n",
      "39/39 [==============================] - 34s 883ms/step - loss: 0.0535 - accuracy: 0.9800 - val_loss: 0.0833 - val_accuracy: 0.9712\n",
      "Epoch 18/100\n",
      "39/39 [==============================] - 34s 872ms/step - loss: 0.0562 - accuracy: 0.9768 - val_loss: 0.0757 - val_accuracy: 0.9744\n",
      "Epoch 19/100\n",
      "39/39 [==============================] - 34s 874ms/step - loss: 0.0399 - accuracy: 0.9840 - val_loss: 0.0849 - val_accuracy: 0.9647\n",
      "Epoch 20/100\n",
      "39/39 [==============================] - 35s 895ms/step - loss: 0.0472 - accuracy: 0.9840 - val_loss: 0.0866 - val_accuracy: 0.9776\n",
      "Epoch 21/100\n",
      "39/39 [==============================] - 35s 885ms/step - loss: 0.0345 - accuracy: 0.9864 - val_loss: 0.1681 - val_accuracy: 0.9423\n",
      "Epoch 22/100\n",
      "39/39 [==============================] - 34s 876ms/step - loss: 0.0365 - accuracy: 0.9872 - val_loss: 0.0944 - val_accuracy: 0.9647\n",
      "Epoch 23/100\n",
      "39/39 [==============================] - 35s 897ms/step - loss: 0.0332 - accuracy: 0.9880 - val_loss: 0.1241 - val_accuracy: 0.9615\n",
      "Epoch 24/100\n",
      "39/39 [==============================] - 34s 880ms/step - loss: 0.0329 - accuracy: 0.9888 - val_loss: 0.1134 - val_accuracy: 0.9679\n",
      "Epoch 25/100\n",
      "39/39 [==============================] - 35s 895ms/step - loss: 0.0299 - accuracy: 0.9904 - val_loss: 0.1119 - val_accuracy: 0.9679\n",
      "Epoch 26/100\n",
      "39/39 [==============================] - 35s 904ms/step - loss: 0.0290 - accuracy: 0.9896 - val_loss: 0.1259 - val_accuracy: 0.9647\n",
      "Epoch 27/100\n",
      "39/39 [==============================] - 35s 905ms/step - loss: 0.0261 - accuracy: 0.9920 - val_loss: 0.0378 - val_accuracy: 0.9776\n",
      "Epoch 28/100\n",
      "39/39 [==============================] - 34s 881ms/step - loss: 0.0264 - accuracy: 0.9928 - val_loss: 0.1220 - val_accuracy: 0.9712\n",
      "Epoch 29/100\n",
      "39/39 [==============================] - 35s 886ms/step - loss: 0.0348 - accuracy: 0.9912 - val_loss: 0.0319 - val_accuracy: 0.9872\n",
      "Epoch 30/100\n",
      "39/39 [==============================] - 36s 916ms/step - loss: 0.0228 - accuracy: 0.9904 - val_loss: 0.1069 - val_accuracy: 0.9679\n",
      "Epoch 31/100\n",
      "39/39 [==============================] - 35s 889ms/step - loss: 0.0575 - accuracy: 0.9792 - val_loss: 0.0892 - val_accuracy: 0.9712\n",
      "Epoch 32/100\n",
      "39/39 [==============================] - 34s 874ms/step - loss: 0.0249 - accuracy: 0.9912 - val_loss: 0.0547 - val_accuracy: 0.9776\n",
      "Epoch 33/100\n",
      "39/39 [==============================] - 35s 896ms/step - loss: 0.0298 - accuracy: 0.9896 - val_loss: 0.0633 - val_accuracy: 0.9744\n",
      "Epoch 34/100\n",
      "39/39 [==============================] - 35s 891ms/step - loss: 0.0298 - accuracy: 0.9896 - val_loss: 0.0733 - val_accuracy: 0.9808\n",
      "Epoch 35/100\n",
      "39/39 [==============================] - 35s 892ms/step - loss: 0.0311 - accuracy: 0.9888 - val_loss: 0.0657 - val_accuracy: 0.9808\n",
      "Epoch 36/100\n",
      "39/39 [==============================] - 35s 887ms/step - loss: 0.0372 - accuracy: 0.9864 - val_loss: 0.0859 - val_accuracy: 0.9744\n",
      "Epoch 37/100\n",
      "39/39 [==============================] - 35s 902ms/step - loss: 0.0164 - accuracy: 0.9928 - val_loss: 0.0799 - val_accuracy: 0.9776\n",
      "Epoch 38/100\n",
      "39/39 [==============================] - 35s 897ms/step - loss: 0.0155 - accuracy: 0.9928 - val_loss: 0.0978 - val_accuracy: 0.9776\n",
      "Epoch 39/100\n",
      "39/39 [==============================] - 35s 891ms/step - loss: 0.0179 - accuracy: 0.9928 - val_loss: 0.1798 - val_accuracy: 0.9615\n",
      "Epoch 40/100\n",
      "39/39 [==============================] - 37s 955ms/step - loss: 0.0203 - accuracy: 0.9928 - val_loss: 0.2149 - val_accuracy: 0.9583\n",
      "Epoch 41/100\n",
      "39/39 [==============================] - 35s 894ms/step - loss: 0.0198 - accuracy: 0.9912 - val_loss: 0.0874 - val_accuracy: 0.9776\n",
      "Epoch 42/100\n",
      "39/39 [==============================] - 35s 888ms/step - loss: 0.0234 - accuracy: 0.9920 - val_loss: 0.1002 - val_accuracy: 0.9744\n",
      "Epoch 43/100\n",
      "39/39 [==============================] - 34s 872ms/step - loss: 0.0088 - accuracy: 0.9960 - val_loss: 0.1675 - val_accuracy: 0.9615\n",
      "Epoch 44/100\n",
      "39/39 [==============================] - 35s 908ms/step - loss: 0.0096 - accuracy: 0.9960 - val_loss: 0.1719 - val_accuracy: 0.9712\n",
      "Epoch 45/100\n",
      "39/39 [==============================] - 33s 841ms/step - loss: 0.0257 - accuracy: 0.9928 - val_loss: 0.0751 - val_accuracy: 0.9872\n",
      "Epoch 46/100\n",
      "39/39 [==============================] - 30s 778ms/step - loss: 0.0140 - accuracy: 0.9952 - val_loss: 0.1064 - val_accuracy: 0.9776\n",
      "Epoch 47/100\n",
      "39/39 [==============================] - 31s 787ms/step - loss: 0.0161 - accuracy: 0.9944 - val_loss: 0.1368 - val_accuracy: 0.9647\n",
      "Epoch 48/100\n",
      "39/39 [==============================] - 31s 806ms/step - loss: 0.0236 - accuracy: 0.9904 - val_loss: 0.2028 - val_accuracy: 0.9615\n",
      "Epoch 49/100\n",
      "39/39 [==============================] - 30s 768ms/step - loss: 0.0189 - accuracy: 0.9936 - val_loss: 0.0651 - val_accuracy: 0.9808\n",
      "Epoch 50/100\n",
      "39/39 [==============================] - 31s 789ms/step - loss: 0.0170 - accuracy: 0.9928 - val_loss: 0.0595 - val_accuracy: 0.9808\n",
      "Epoch 51/100\n",
      "39/39 [==============================] - 31s 789ms/step - loss: 0.0162 - accuracy: 0.9968 - val_loss: 0.0676 - val_accuracy: 0.9808\n",
      "Epoch 52/100\n",
      "39/39 [==============================] - 30s 781ms/step - loss: 0.0125 - accuracy: 0.9936 - val_loss: 0.2533 - val_accuracy: 0.9583\n",
      "Epoch 53/100\n",
      "39/39 [==============================] - 30s 771ms/step - loss: 0.0144 - accuracy: 0.9952 - val_loss: 0.0821 - val_accuracy: 0.9679\n",
      "Epoch 54/100\n",
      "39/39 [==============================] - 30s 780ms/step - loss: 0.0090 - accuracy: 0.9968 - val_loss: 0.1419 - val_accuracy: 0.9679\n",
      "Epoch 55/100\n",
      "39/39 [==============================] - 30s 779ms/step - loss: 0.0225 - accuracy: 0.9936 - val_loss: 0.2153 - val_accuracy: 0.9647\n",
      "Epoch 56/100\n",
      "39/39 [==============================] - 30s 777ms/step - loss: 0.0220 - accuracy: 0.9936 - val_loss: 0.0717 - val_accuracy: 0.9808\n",
      "Epoch 57/100\n",
      "39/39 [==============================] - 30s 761ms/step - loss: 0.0101 - accuracy: 0.9960 - val_loss: 0.0841 - val_accuracy: 0.9776\n",
      "Epoch 58/100\n",
      "39/39 [==============================] - 31s 785ms/step - loss: 0.0125 - accuracy: 0.9976 - val_loss: 0.0230 - val_accuracy: 0.9904\n",
      "Epoch 59/100\n",
      "39/39 [==============================] - 31s 783ms/step - loss: 0.0186 - accuracy: 0.9920 - val_loss: 0.1578 - val_accuracy: 0.9712\n",
      "Epoch 60/100\n",
      "39/39 [==============================] - 30s 781ms/step - loss: 0.0181 - accuracy: 0.9944 - val_loss: 0.0981 - val_accuracy: 0.9744\n",
      "Epoch 61/100\n",
      "39/39 [==============================] - 31s 794ms/step - loss: 0.0091 - accuracy: 0.9960 - val_loss: 0.1884 - val_accuracy: 0.9679\n",
      "Epoch 62/100\n",
      "39/39 [==============================] - 33s 856ms/step - loss: 0.0074 - accuracy: 0.9968 - val_loss: 0.1806 - val_accuracy: 0.9712\n",
      "Epoch 63/100\n",
      "39/39 [==============================] - 35s 885ms/step - loss: 0.0140 - accuracy: 0.9944 - val_loss: 0.1804 - val_accuracy: 0.9615\n",
      "Epoch 64/100\n",
      "39/39 [==============================] - 32s 822ms/step - loss: 0.0103 - accuracy: 0.9952 - val_loss: 0.1704 - val_accuracy: 0.9776\n",
      "Epoch 65/100\n",
      "39/39 [==============================] - 32s 827ms/step - loss: 0.0159 - accuracy: 0.9960 - val_loss: 0.1260 - val_accuracy: 0.9744\n",
      "Epoch 66/100\n",
      "39/39 [==============================] - 33s 856ms/step - loss: 0.0137 - accuracy: 0.9952 - val_loss: 0.1582 - val_accuracy: 0.9551\n",
      "Epoch 67/100\n",
      "39/39 [==============================] - 32s 822ms/step - loss: 0.0043 - accuracy: 0.9984 - val_loss: 0.1851 - val_accuracy: 0.9679\n",
      "Epoch 68/100\n",
      "39/39 [==============================] - 31s 792ms/step - loss: 0.0028 - accuracy: 1.0000 - val_loss: 0.3469 - val_accuracy: 0.9519\n",
      "Epoch 69/100\n",
      "39/39 [==============================] - 32s 810ms/step - loss: 0.0223 - accuracy: 0.9912 - val_loss: 0.0593 - val_accuracy: 0.9840\n",
      "Epoch 70/100\n",
      "39/39 [==============================] - 34s 861ms/step - loss: 0.0041 - accuracy: 0.9984 - val_loss: 0.1607 - val_accuracy: 0.9712\n",
      "Epoch 71/100\n",
      "39/39 [==============================] - 34s 875ms/step - loss: 0.0046 - accuracy: 0.9984 - val_loss: 0.1708 - val_accuracy: 0.9744\n",
      "Epoch 72/100\n",
      "39/39 [==============================] - 34s 863ms/step - loss: 0.0052 - accuracy: 0.9976 - val_loss: 0.1165 - val_accuracy: 0.9808\n",
      "Epoch 73/100\n",
      "39/39 [==============================] - 34s 873ms/step - loss: 0.0053 - accuracy: 0.9984 - val_loss: 0.1704 - val_accuracy: 0.9679\n",
      "Epoch 74/100\n",
      "39/39 [==============================] - 33s 835ms/step - loss: 0.0079 - accuracy: 0.9976 - val_loss: 0.2294 - val_accuracy: 0.9615\n",
      "Epoch 75/100\n",
      "39/39 [==============================] - 33s 850ms/step - loss: 0.0047 - accuracy: 0.9984 - val_loss: 0.2423 - val_accuracy: 0.9615\n",
      "Epoch 76/100\n",
      "39/39 [==============================] - 31s 799ms/step - loss: 0.0114 - accuracy: 0.9936 - val_loss: 0.0812 - val_accuracy: 0.9840\n",
      "Epoch 77/100\n",
      "39/39 [==============================] - 32s 831ms/step - loss: 0.0102 - accuracy: 0.9960 - val_loss: 0.3222 - val_accuracy: 0.9519\n",
      "Epoch 78/100\n",
      "39/39 [==============================] - 34s 859ms/step - loss: 0.0145 - accuracy: 0.9936 - val_loss: 0.1386 - val_accuracy: 0.9776\n",
      "Epoch 79/100\n",
      "39/39 [==============================] - 32s 815ms/step - loss: 0.0097 - accuracy: 0.9976 - val_loss: 0.0810 - val_accuracy: 0.9808\n",
      "Epoch 80/100\n",
      "39/39 [==============================] - 30s 778ms/step - loss: 0.0066 - accuracy: 0.9976 - val_loss: 0.0660 - val_accuracy: 0.9808\n",
      "Epoch 81/100\n",
      "39/39 [==============================] - 31s 799ms/step - loss: 0.0031 - accuracy: 0.9992 - val_loss: 0.1627 - val_accuracy: 0.9744\n",
      "Epoch 82/100\n",
      "39/39 [==============================] - 32s 823ms/step - loss: 0.0096 - accuracy: 0.9968 - val_loss: 0.1355 - val_accuracy: 0.9776\n",
      "Epoch 83/100\n",
      "39/39 [==============================] - 30s 778ms/step - loss: 0.0026 - accuracy: 1.0000 - val_loss: 0.0885 - val_accuracy: 0.9840\n",
      "Epoch 84/100\n",
      "39/39 [==============================] - 33s 853ms/step - loss: 0.0027 - accuracy: 0.9992 - val_loss: 0.2242 - val_accuracy: 0.9583\n",
      "Epoch 85/100\n",
      "39/39 [==============================] - 32s 827ms/step - loss: 0.0246 - accuracy: 0.9920 - val_loss: 0.1102 - val_accuracy: 0.9615\n",
      "Epoch 86/100\n",
      "39/39 [==============================] - 31s 807ms/step - loss: 0.0044 - accuracy: 0.9992 - val_loss: 0.1816 - val_accuracy: 0.9679\n",
      "Epoch 87/100\n",
      "39/39 [==============================] - 32s 819ms/step - loss: 0.0149 - accuracy: 0.9960 - val_loss: 0.0933 - val_accuracy: 0.9808\n",
      "Epoch 88/100\n",
      "39/39 [==============================] - 31s 787ms/step - loss: 0.0045 - accuracy: 0.9984 - val_loss: 0.1185 - val_accuracy: 0.9744\n",
      "Epoch 89/100\n",
      "39/39 [==============================] - 25s 651ms/step - loss: 0.0037 - accuracy: 0.9992 - val_loss: 0.1207 - val_accuracy: 0.9712\n",
      "Epoch 90/100\n",
      "39/39 [==============================] - 30s 768ms/step - loss: 0.0065 - accuracy: 0.9968 - val_loss: 0.1571 - val_accuracy: 0.9776\n",
      "Epoch 91/100\n",
      "39/39 [==============================] - 31s 788ms/step - loss: 0.0043 - accuracy: 0.9992 - val_loss: 0.3327 - val_accuracy: 0.9423\n",
      "Epoch 92/100\n",
      "39/39 [==============================] - 33s 837ms/step - loss: 0.0113 - accuracy: 0.9968 - val_loss: 0.0779 - val_accuracy: 0.9776\n",
      "Epoch 93/100\n",
      "39/39 [==============================] - 31s 795ms/step - loss: 0.0017 - accuracy: 1.0000 - val_loss: 0.1478 - val_accuracy: 0.9840\n",
      "Epoch 94/100\n",
      "39/39 [==============================] - 32s 814ms/step - loss: 0.0066 - accuracy: 0.9976 - val_loss: 0.1273 - val_accuracy: 0.9712\n",
      "Epoch 95/100\n",
      "39/39 [==============================] - 30s 767ms/step - loss: 0.0035 - accuracy: 0.9992 - val_loss: 0.1765 - val_accuracy: 0.9712\n",
      "Epoch 96/100\n",
      "39/39 [==============================] - 30s 764ms/step - loss: 0.0082 - accuracy: 0.9976 - val_loss: 0.1388 - val_accuracy: 0.9776\n",
      "Epoch 97/100\n",
      "39/39 [==============================] - 30s 771ms/step - loss: 0.0044 - accuracy: 0.9976 - val_loss: 0.1384 - val_accuracy: 0.9776\n",
      "Epoch 98/100\n",
      "39/39 [==============================] - 30s 769ms/step - loss: 0.0096 - accuracy: 0.9968 - val_loss: 0.1722 - val_accuracy: 0.9647\n",
      "Epoch 99/100\n",
      "39/39 [==============================] - 32s 832ms/step - loss: 0.0101 - accuracy: 0.9952 - val_loss: 0.0878 - val_accuracy: 0.9808\n",
      "Epoch 100/100\n",
      "39/39 [==============================] - 31s 792ms/step - loss: 0.0147 - accuracy: 0.9976 - val_loss: 0.2522 - val_accuracy: 0.9647\n"
     ]
    }
   ],
   "source": [
    "history=model.fit(x_train,epochs = 100,validation_data=x_test)"
   ]
  },
  {
   "cell_type": "code",
   "execution_count": 41,
   "metadata": {},
   "outputs": [
    {
     "name": "stdout",
     "output_type": "stream",
     "text": [
      "dict_keys(['loss', 'accuracy', 'val_loss', 'val_accuracy'])\n"
     ]
    },
    {
     "data": {
      "image/png": "[encoded data removed]",
      "text/plain": [
       "<Figure size 432x288 with 1 Axes>"
      ]
     },
     "metadata": {
      "needs_background": "light"
     },
     "output_type": "display_data"
    },
    {
     "data": {
      "image/png": "[encoded data removed]",
      "text/plain": [
       "<Figure size 432x288 with 1 Axes>"
      ]
     },
     "metadata": {
      "needs_background": "light"
     },
     "output_type": "display_data"
    }
   ],
   "source": [
    "\n",
    "print(history.history.keys())\n",
    "#  \"Accuracy\"\n",
    "plt.plot(history.history['accuracy'])\n",
    "plt.plot(history.history['val_accuracy'])\n",
    "plt.title('model accuracy')\n",
    "plt.ylabel('accuracy')\n",
    "plt.xlabel('epoch')\n",
    "plt.legend(['train', 'validation'], loc='upper left')\n",
    "plt.show()\n",
    "# \"Loss\"\n",
    "plt.plot(history.history['loss'])\n",
    "plt.plot(history.history['val_loss'])\n",
    "plt.title('model loss')\n",
    "plt.ylabel('loss')\n",
    "plt.xlabel('epoch')\n",
    "plt.legend(['train', 'validation'], loc='upper left')\n",
    "plt.show()"
   ]
  },
  {
   "cell_type": "code",
   "execution_count": 42,
   "metadata": {},
   "outputs": [],
   "source": [
    "model.save('covid_detect_gi.h5')"
   ]
  },
  {
   "cell_type": "code",
   "execution_count": 46,
   "metadata": {},
   "outputs": [],
   "source": [
    "model=load_model('covid_detect_gi.h5')"
   ]
  },
  {
   "cell_type": "code",
   "execution_count": 2,
   "metadata": {},
   "outputs": [],
   "source": [
    "#prediction"
   ]
  },
  {
   "cell_type": "code",
   "execution_count": 3,
   "metadata": {},
   "outputs": [],
   "source": [
    "from keras.models import load_model\n",
    "import numpy as np"
   ]
  },
  {
   "cell_type": "code",
   "execution_count": 4,
   "metadata": {},
   "outputs": [],
   "source": [
    "import cv2"
   ]
  },
  {
   "cell_type": "code",
   "execution_count": 5,
   "metadata": {},
   "outputs": [],
   "source": [
    "model=load_model('covid_detect_gi.h5')"
   ]
  },
  {
   "cell_type": "code",
   "execution_count": 6,
   "metadata": {},
   "outputs": [],
   "source": [
    "from skimage.transform import resize"
   ]
  },
  {
   "cell_type": "code",
   "execution_count": 8,
   "metadata": {},
   "outputs": [],
   "source": [
    "def detect(frame):\n",
    "    try:\n",
    "        img= resize(frame,(64,64))\n",
    "        #print(img)\n",
    "        img= np.expand_dims(img,axis=0)\n",
    "        #print(img)\n",
    "        if(np.max(img)>1):\n",
    "            img= img/255.0\n",
    "        prediction= model.predict(img)\n",
    "        print(prediction)\n",
    "        print(model.predict_classes(img))\n",
    "    except AttributeError:\n",
    "        print(\"Not found\")"
   ]
  },
  {
   "cell_type": "code",
   "execution_count": 10,
   "metadata": {},
   "outputs": [
    {
     "name": "stdout",
     "output_type": "stream",
     "text": [
      "Not found\n"
     ]
    }
   ],
   "source": [
    "frame= cv2.imread(r'E:\\GITAM\\SEM_7\\Mini_Project\\RADAR_DS\\COVID_19\\TEST\\1 no.jpg')\n",
    "data= detect(frame)"
   ]
  },
  {
   "cell_type": "code",
   "execution_count": null,
   "metadata": {},
   "outputs": [],
   "source": []
  }
 ],
 "metadata": {
  "kernelspec": {
   "display_name": "Python 3",
   "language": "python",
   "name": "python3"
  },
  "language_info": {
   "codemirror_mode": {
    "name": "ipython",
    "version": 3
   },
   "file_extension": ".py",
   "mimetype": "text/x-python",
   "name": "python",
   "nbconvert_exporter": "python",
   "pygments_lexer": "ipython3",
   "version": "3.7.6"
  }
 },
 "nbformat": 4,
 "nbformat_minor": 4
}
